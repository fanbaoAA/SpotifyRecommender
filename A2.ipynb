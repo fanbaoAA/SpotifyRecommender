{
 "cells": [
  {
   "cell_type": "code",
   "execution_count": 1,
   "metadata": {},
   "outputs": [],
   "source": [
    "import random\n",
    "from tqdm import tqdm\n",
    "from collections import defaultdict\n",
    "from sklearn.model_selection import train_test_split\n",
    "# Read the dataset\n",
    "def read_tsv(path):\n",
    "    with open(path, 'r') as f:\n",
    "        for line in f:\n",
    "            userid, timestamp, artid, artname, traid, traname = line.strip().split('\\t')\n",
    "            yield userid, artid\n",
    "\n",
    "data = list(read_tsv(\"lastfm-dataset-1K/userid-timestamp-artid-artname-traid-traname.tsv\"))"
   ]
  },
  {
   "cell_type": "code",
   "execution_count": 2,
   "metadata": {},
   "outputs": [
    {
     "name": "stderr",
     "output_type": "stream",
     "text": [
      "Generating negatives: 100%|██████████| 19150868/19150868 [00:04<00:00, 3832415.87entries/s]"
     ]
    },
    {
     "name": "stdout",
     "output_type": "stream",
     "text": [
      "Original data size: 19150868\n",
      "Processed data size (unique user-artist pairs): 821011\n"
     ]
    },
    {
     "name": "stderr",
     "output_type": "stream",
     "text": [
      "\n"
     ]
    }
   ],
   "source": [
    "# Process the original data to remove duplicate (user, artist) pairs\n",
    "unique_user_artist_pairs = set()\n",
    "processed_data = []\n",
    "with tqdm(total=len(data), desc=\"Generating negatives\", unit=\"entries\") as pbar:\n",
    "    for user, artid in data:\n",
    "        if (user, artid) not in unique_user_artist_pairs:\n",
    "            unique_user_artist_pairs.add((user, artid))\n",
    "            processed_data.append((user, artid))\n",
    "        pbar.update(1)\n",
    "\n",
    "# `processed_data` now contains unique (user, artist) pairs\n",
    "print(f\"Original data size: {len(data)}\")\n",
    "print(f\"Processed data size (unique user-artist pairs): {len(processed_data)}\")"
   ]
  },
  {
   "cell_type": "code",
   "execution_count": 3,
   "metadata": {},
   "outputs": [],
   "source": [
    "data = processed_data\n",
    "# Create user-to-artist mappings\n",
    "user_to_artists = defaultdict(set)\n",
    "for user, artist in data:\n",
    "    user_to_artists[user].add(artist)\n",
    "\n",
    "# Split dataset into training and validation\n",
    "train_data, val_data = train_test_split(data, test_size=0.1, random_state=42)"
   ]
  },
  {
   "cell_type": "code",
   "execution_count": 5,
   "metadata": {},
   "outputs": [
    {
     "name": "stderr",
     "output_type": "stream",
     "text": [
      "Generating negatives: 100%|██████████| 82102/82102 [02:34<00:00, 530.22entries/s]"
     ]
    },
    {
     "name": "stdout",
     "output_type": "stream",
     "text": [
      "Training data size: 738909\n",
      "Validation data size (with negatives): 164204\n"
     ]
    },
    {
     "name": "stderr",
     "output_type": "stream",
     "text": [
      "\n"
     ]
    }
   ],
   "source": [
    "# Generate negative examples for validation\n",
    "val_data_with_negatives = []\n",
    "all_artists = set(artist for _, artist in data)\n",
    "total_items = len(val_data)\n",
    "with tqdm(total=total_items, desc=\"Generating negatives\", unit=\"entries\") as pbar:\n",
    "    for user, artist in val_data:\n",
    "        # Add the positive example\n",
    "        val_data_with_negatives.append((user, artist, 1))  # Label 1 for positive\n",
    "\n",
    "        # Generate a negative example with safeguards\n",
    "        max_retries = 1000\n",
    "        for _ in range(max_retries):\n",
    "            negative_artist = random.choice(list(all_artists))\n",
    "            if negative_artist not in user_to_artists[user]:\n",
    "                val_data_with_negatives.append((user, negative_artist, 0))  # Label 0 for negative\n",
    "                break\n",
    "        else:\n",
    "            print(f\"Warning: Could not find a negative example for user {user} after {max_retries} retries.\")\n",
    "\n",
    "        # Update progress bar\n",
    "        pbar.update(1)\n",
    "\n",
    "\n",
    "# Display the sizes of the datasets\n",
    "print(f\"Training data size: {len(train_data)}\")\n",
    "print(f\"Validation data size (with negatives): {len(val_data_with_negatives)}\")"
   ]
  },
  {
   "cell_type": "code",
   "execution_count": 6,
   "metadata": {},
   "outputs": [
    {
     "name": "stdout",
     "output_type": "stream",
     "text": [
      "Training data saved to 'train_data.tsv'.\n",
      "Validation data saved to 'val_data.tsv'.\n"
     ]
    }
   ],
   "source": [
    "import csv\n",
    "# Save training set to a file\n",
    "with open(\"train_data.tsv\", \"w\", newline=\"\") as train_file:\n",
    "    writer = csv.writer(train_file, delimiter='\\t')\n",
    "    for user, artist in train_data:\n",
    "        writer.writerow([user, artist])\n",
    "\n",
    "# Save validation set (with negatives) to a file\n",
    "with open(\"val_data.tsv\", \"w\", newline=\"\") as val_file:\n",
    "    writer = csv.writer(val_file, delimiter='\\t')\n",
    "    for user, artist, label in val_data_with_negatives:\n",
    "        writer.writerow([user, artist, label])\n",
    "\n",
    "print(f\"Training data saved to 'train_data.tsv'.\")\n",
    "print(f\"Validation data saved to 'val_data.tsv'.\")"
   ]
  },
  {
   "cell_type": "code",
   "execution_count": 8,
   "metadata": {},
   "outputs": [],
   "source": [
    "# Load the training set\n",
    "def load_training_data(path):\n",
    "    with open(path, 'r') as f:\n",
    "        reader = csv.reader(f, delimiter='\\t')\n",
    "        return list(reader)\n",
    "\n",
    "# Load the validation set\n",
    "def load_validation_data(path):\n",
    "    with open(path, 'r') as f:\n",
    "        reader = csv.reader(f, delimiter='\\t')\n",
    "        return [(user, artist, int(label)) for user, artist, label in reader]"
   ]
  },
  {
   "cell_type": "code",
   "execution_count": 47,
   "metadata": {},
   "outputs": [
    {
     "data": {
      "image/png": "[encoded data removed]",
      "text/plain": [
       "<Figure size 1000x600 with 1 Axes>"
      ]
     },
     "metadata": {},
     "output_type": "display_data"
    }
   ],
   "source": [
    "from sklearn.metrics import accuracy_score\n",
    "from collections import Counter\n",
    "import matplotlib.pyplot as plt\n",
    "\n",
    "# Count artist occurrences\n",
    "def get_artist_occurrences(train_data):\n",
    "    artist_counts = Counter(artist for _, artist in train_data)\n",
    "    return artist_counts\n",
    "\n",
    "# Plot distribution\n",
    "def plot_artist_distribution(artist_counts):\n",
    "    counts = list(artist_counts.values())\n",
    "    plt.figure(figsize=(10, 6))\n",
    "    plt.hist(counts, bins=50, edgecolor=\"k\")\n",
    "    plt.yscale('log')  # Log scale for better visualization of skewed data\n",
    "    plt.title(\"Distribution of Artist Occurrences in Training Set\")\n",
    "    plt.xlabel(\"Number of Occurrences\")\n",
    "    plt.ylabel(\"Number of Artists (Log Scale)\")\n",
    "    plt.show()\n",
    "\n",
    "# Main\n",
    "train_data = load_training_data(\"train_data.tsv\")\n",
    "artist_counts = get_artist_occurrences(train_data)\n",
    "plot_artist_distribution(artist_counts)"
   ]
  },
  {
   "cell_type": "code",
   "execution_count": 36,
   "metadata": {},
   "outputs": [],
   "source": [
    "val_data = load_validation_data(\"val_data.tsv\")"
   ]
  },
  {
   "cell_type": "code",
   "execution_count": 46,
   "metadata": {},
   "outputs": [
    {
     "name": "stdout",
     "output_type": "stream",
     "text": [
      "Performance on Validation Set:\n",
      "Top 5% Artists: Accuracy = 0.7445\n",
      "Top 10% Artists: Accuracy = 0.7816\n",
      "Top 15% Artists: Accuracy = 0.7898\n",
      "Top 20% Artists: Accuracy = 0.7881\n"
     ]
    }
   ],
   "source": [
    "from sklearn.metrics import accuracy_score\n",
    "\n",
    "# Get popularity thresholds\n",
    "def get_popularity_thresholds(artist_counts, percentages):\n",
    "    sorted_artists = sorted(artist_counts.items(), key=lambda x: x[1], reverse=True)\n",
    "    thresholds = {}\n",
    "    total_artists = len(sorted_artists)\n",
    "    \n",
    "    for pct in percentages:\n",
    "        cutoff_index = int(total_artists * (pct / 100))\n",
    "        thresholds[pct] = sorted_artists[cutoff_index - 1][1] if cutoff_index > 0 else 0\n",
    "    return thresholds\n",
    "\n",
    "# Predict based on popularity\n",
    "def predict_popularity(val_data, artist_counts, threshold):\n",
    "    popular_artists = {artist for artist, count in artist_counts.items() if count >= threshold}\n",
    "    predictions = [1 if artist in popular_artists else 0 for _, artist, _ in val_data]\n",
    "    return predictions\n",
    "\n",
    "# Evaluate thresholds\n",
    "def evaluate_thresholds(val_data, artist_counts, thresholds):\n",
    "    results = {}\n",
    "    y_true = [label for _, _, label in val_data]\n",
    "    \n",
    "    for pct, threshold in thresholds.items():\n",
    "        y_pred = predict_popularity(val_data, artist_counts, threshold)\n",
    "        accuracy = accuracy_score(y_true, y_pred)\n",
    "        results[pct] = accuracy\n",
    "    return results\n",
    "\n",
    "# Define thresholds for top 10%, 20%, 30%, and 50%\n",
    "percentages = [5, 10, 15, 20]\n",
    "thresholds = get_popularity_thresholds(artist_counts, percentages)\n",
    "\n",
    "# Evaluate performance\n",
    "results = evaluate_thresholds(val_data, artist_counts, thresholds)\n",
    "\n",
    "# Print results\n",
    "print(\"Performance on Validation Set:\")\n",
    "for pct, accuracy in results.items():\n",
    "    print(f\"Top {pct}% Artists: Accuracy = {accuracy:.4f}\")\n"
   ]
  },
  {
   "cell_type": "code",
   "execution_count": 38,
   "metadata": {},
   "outputs": [],
   "source": [
    "from collections import defaultdict\n",
    "from sklearn.metrics import accuracy_score\n",
    "\n",
    "# Load training data and build artist-to-users mapping\n",
    "def build_artist_user_mapping(train_data):\n",
    "    artist_users = defaultdict(set)\n",
    "    for user, artist in train_data:\n",
    "        artist_users[artist].add(user)\n",
    "    return artist_users\n",
    "\n",
    "# Calculate Jaccard similarity\n",
    "def jaccard_similarity(set1, set2):\n",
    "    if not set1 or not set2:\n",
    "        return 0\n",
    "    intersection = len(set1 & set2)\n",
    "    union = len(set1 | set2)\n",
    "    return intersection / union\n",
    "\n",
    "# Predict based on Jaccard similarity\n",
    "def predict_jaccard(val_data, train_user_artists, artist_users, threshold):\n",
    "    predictions = []\n",
    "    for user, artist, _ in val_data:\n",
    "        user_artists = train_user_artists.get(user, set())\n",
    "        max_similarity = 0\n",
    "        for user_artist in user_artists:\n",
    "            if user_artist == artist:\n",
    "                continue\n",
    "            similarity = jaccard_similarity(artist_users[artist], artist_users[user_artist])\n",
    "            max_similarity = max(max_similarity, similarity)\n",
    "        predictions.append(1 if max_similarity >= threshold else 0)\n",
    "    return predictions\n",
    "\n",
    "# Build mappings\n",
    "train_user_artists = defaultdict(set)\n",
    "for user, artist in train_data:\n",
    "    train_user_artists[user].add(artist)\n",
    "\n",
    "artist_users = build_artist_user_mapping(train_data)\n",
    "# Evaluate performance\n",
    "def evaluate_jaccard(val_data, thresholds):\n",
    "\n",
    "    # Evaluate thresholds\n",
    "    results = {}\n",
    "    y_true = [label for _, _, label in val_data]\n",
    "\n",
    "    for threshold in thresholds:\n",
    "        y_pred = predict_jaccard(val_data, train_user_artists, artist_users, threshold)\n",
    "        accuracy = accuracy_score(y_true, y_pred)\n",
    "        results[threshold] = accuracy\n",
    "\n",
    "    return results"
   ]
  },
  {
   "cell_type": "code",
   "execution_count": 39,
   "metadata": {},
   "outputs": [
    {
     "name": "stdout",
     "output_type": "stream",
     "text": [
      "Performance on Validation Set:\n",
      "Threshold: 0.15, Accuracy = 0.6840\n"
     ]
    }
   ],
   "source": [
    "# Evaluate for thresholds\n",
    "thresholds = [0.15]\n",
    "results = evaluate_jaccard(val_data[:5000], thresholds)\n",
    "\n",
    "# Print results\n",
    "print(\"Performance on Validation Set:\")\n",
    "for threshold, accuracy in results.items():\n",
    "    print(f\"Threshold: {threshold}, Accuracy = {accuracy:.4f}\")"
   ]
  },
  {
   "cell_type": "code",
   "execution_count": 40,
   "metadata": {},
   "outputs": [
    {
     "name": "stdout",
     "output_type": "stream",
     "text": [
      "Performance on Validation Set (Popularity and Jaccard):\n",
      "Popularity Threshold: 8, Jaccard Threshold: 0.8, Accuracy = 0.8090\n"
     ]
    }
   ],
   "source": [
    "from itertools import product\n",
    "\n",
    "# Predict based on combined popularity and Jaccard similarity\n",
    "def predict_combined(val_data, train_user_artists, artist_users, popularity_set, jaccard_threshold):\n",
    "    predictions = []\n",
    "    for user, artist, _ in val_data:\n",
    "        # Check if the artist is popular\n",
    "        if artist in popularity_set:\n",
    "            predictions.append(1)\n",
    "            continue\n",
    "        # Check Jaccard similarity\n",
    "        user_artists = train_user_artists.get(user, set())\n",
    "        max_similarity = 0\n",
    "        for user_artist in user_artists:\n",
    "            if user_artist == artist:\n",
    "                continue\n",
    "            similarity = jaccard_similarity(artist_users[artist], artist_users[user_artist])\n",
    "            max_similarity = max(max_similarity, similarity)\n",
    "\n",
    "        predictions.append(1 if max_similarity >= jaccard_threshold else 0)\n",
    "\n",
    "    return predictions\n",
    "\n",
    "# Evaluate combined model\n",
    "def evaluate_combined(val_data, popularity_percent, jaccard_thresholds):\n",
    "\n",
    "    results = {}\n",
    "    y_true = [label for _, _, label in val_data]\n",
    "    popularity_thresholds = [a for _,a in get_popularity_thresholds(artist_counts, popularity_percent).items()]\n",
    "    \n",
    "\n",
    "    for pop_thresh, jac_thresh in product(popularity_thresholds, jaccard_thresholds):\n",
    "        # Determine popular artists\n",
    "        popularity_set = {artist for artist, count in artist_counts.items() if count >= pop_thresh}\n",
    "\n",
    "        # Predict using the combined model\n",
    "        y_pred = predict_combined(val_data, train_user_artists, artist_users, popularity_set, jac_thresh)\n",
    "\n",
    "        # Calculate accuracy\n",
    "        accuracy = accuracy_score(y_true, y_pred)\n",
    "        results[(pop_thresh, jac_thresh)] = accuracy\n",
    "\n",
    "    return results\n",
    "\n",
    "# Define thresholds\n",
    "popularity_percent = [15]  # Top 10%, 20%, etc.\n",
    "jaccard_thresholds = [0.8]\n",
    "\n",
    "# Evaluate performance\n",
    "results = evaluate_combined(val_data[:5000], popularity_percent, jaccard_thresholds)\n",
    "\n",
    "# Print results\n",
    "print(\"Performance on Validation Set (Popularity and Jaccard):\")\n",
    "for (pop_thresh, jac_thresh), accuracy in sorted(results.items(), key=lambda x: x[1], reverse=True):\n",
    "    print(f\"Popularity Threshold: {pop_thresh}, Jaccard Threshold: {jac_thresh}, Accuracy = {accuracy:.4f}\")\n"
   ]
  }
 ],
 "metadata": {
  "kernelspec": {
   "display_name": "Python 3",
   "language": "python",
   "name": "python3"
  },
  "language_info": {
   "codemirror_mode": {
    "name": "ipython",
    "version": 3
   },
   "file_extension": ".py",
   "mimetype": "text/x-python",
   "name": "python",
   "nbconvert_exporter": "python",
   "pygments_lexer": "ipython3",
   "version": "3.10.6"
  }
 },
 "nbformat": 4,
 "nbformat_minor": 2
}
